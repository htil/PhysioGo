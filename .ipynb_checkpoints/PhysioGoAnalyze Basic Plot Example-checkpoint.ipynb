{
 "cells": [
  {
   "cell_type": "code",
   "execution_count": 1,
   "metadata": {},
   "outputs": [
    {
     "ename": "ImportError",
     "evalue": "cannot import name 'Analyze' from 'PhysioAnalyze' (/Users/chris/Documents/brainflow/PhysioAnalyze.py)",
     "output_type": "error",
     "traceback": [
      "\u001b[0;31m---------------------------------------------------------------------------\u001b[0m",
      "\u001b[0;31mImportError\u001b[0m                               Traceback (most recent call last)",
      "\u001b[0;32m<ipython-input-1-cbc2faa1ac95>\u001b[0m in \u001b[0;36m<module>\u001b[0;34m\u001b[0m\n\u001b[0;32m----> 1\u001b[0;31m \u001b[0;32mfrom\u001b[0m \u001b[0mPhysioAnalyze\u001b[0m \u001b[0;32mimport\u001b[0m \u001b[0mAnalyze\u001b[0m\u001b[0;34m\u001b[0m\u001b[0;34m\u001b[0m\u001b[0m\n\u001b[0m\u001b[1;32m      2\u001b[0m \u001b[0;32mfrom\u001b[0m \u001b[0mPhysioVisualize\u001b[0m \u001b[0;32mimport\u001b[0m \u001b[0mplotBasic\u001b[0m\u001b[0;34m\u001b[0m\u001b[0;34m\u001b[0m\u001b[0m\n\u001b[1;32m      3\u001b[0m \u001b[0;34m\u001b[0m\u001b[0m\n\u001b[1;32m      4\u001b[0m \u001b[0;31m# Create labels for events (optional)\u001b[0m\u001b[0;34m\u001b[0m\u001b[0;34m\u001b[0m\u001b[0;34m\u001b[0m\u001b[0m\n\u001b[1;32m      5\u001b[0m \u001b[0mevent_mapping\u001b[0m \u001b[0;34m=\u001b[0m \u001b[0;34m{\u001b[0m\u001b[0;34m'Rest'\u001b[0m\u001b[0;34m:\u001b[0m \u001b[0;36m100\u001b[0m\u001b[0;34m,\u001b[0m \u001b[0;34m'Lift'\u001b[0m\u001b[0;34m:\u001b[0m \u001b[0;36m99\u001b[0m\u001b[0;34m,\u001b[0m \u001b[0;34m'Squeeze'\u001b[0m\u001b[0;34m:\u001b[0m \u001b[0;36m98\u001b[0m\u001b[0;34m}\u001b[0m\u001b[0;34m\u001b[0m\u001b[0;34m\u001b[0m\u001b[0m\n",
      "\u001b[0;31mImportError\u001b[0m: cannot import name 'Analyze' from 'PhysioAnalyze' (/Users/chris/Documents/brainflow/PhysioAnalyze.py)"
     ]
    }
   ],
   "source": [
    "from PhysioAnalyze import Study\n",
    "from PhysioVisualize import plotBasic\n",
    "\n",
    "# Create labels for events (optional)\n",
    "event_mapping = {'Rest': 100, 'Lift': 99, 'Squeeze': 98}\n",
    "\n",
    "# Create Physio Study\n",
    "study = Study(1, \"emg\", 200, event_mapping, eventFile=\"data/crawford_events2.txt\")\n",
    "\n",
    "# Read raw csv file\n",
    "study.readFile(\"data/crawford_EMG_Test.csv\", 1, 2)\n",
    "\n",
    "# Get start time for the 4th event\n",
    "start = study.getEventTime(4)\n",
    "\n",
    "# Get 5 second epoch\n",
    "data, times = study.getEpoch(start, 5)\n",
    "\n",
    "# Plot 5 sec for Channel 1\n",
    "plotBasic(data[0], times, [4.3, 3], \"Raw Data (5s)\")\n",
    "\n",
    "# Get 10 sec epoch\n",
    "data, times = study.getEpoch(start, 10)\n",
    "\n",
    "# Plot 10 sec for Channel 1\n",
    "plotBasic(data[0], times, [4.3, 3], \"Raw Data (10s)\")\n",
    "\n"
   ]
  },
  {
   "cell_type": "code",
   "execution_count": null,
   "metadata": {},
   "outputs": [],
   "source": []
  },
  {
   "cell_type": "code",
   "execution_count": null,
   "metadata": {},
   "outputs": [],
   "source": []
  }
 ],
 "metadata": {
  "kernelspec": {
   "display_name": "Python 3",
   "language": "python",
   "name": "python3"
  },
  "language_info": {
   "codemirror_mode": {
    "name": "ipython",
    "version": 3
   },
   "file_extension": ".py",
   "mimetype": "text/x-python",
   "name": "python",
   "nbconvert_exporter": "python",
   "pygments_lexer": "ipython3",
   "version": "3.8.5"
  }
 },
 "nbformat": 4,
 "nbformat_minor": 4
}
