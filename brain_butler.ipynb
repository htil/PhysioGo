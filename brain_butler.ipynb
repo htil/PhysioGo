{
 "cells": [
  {
   "cell_type": "code",
   "execution_count": 20,
   "metadata": {
    "tags": []
   },
   "outputs": [
    {
     "output_type": "execute_result",
     "data": {
      "text/plain": [
       "'\\nplotBasic(data[0], times, [4.3, 3], \"Raw Data (5s)\")\\n\\nplotBasic(data[1], times, [4.3, 3], \"Raw Data (5s)\")\\n\\nplotBasic(data[2], times, [4.3, 3], \"Raw Data (5s)\")\\n\\nplotBasic(data[3], times, [4.3, 3], \"Raw Data (5s)\")\\n'"
      ]
     },
     "metadata": {},
     "execution_count": 20
    }
   ],
   "source": [
    "import os\n",
    "import numpy as np\n",
    "import matplotlib.pyplot as plt\n",
    "import mne\n",
    "import csv\n",
    "\n",
    "from PhysioAnalyze import Study\n",
    "from PhysioVisualize import plotBasic\n",
    "from PhysioIO import formatMNEEvents, writeFile\n",
    "\n",
    "tone = [1, 2, 3, 4, 9, 10, 11, 12, 17, 18, 19, 20]\n",
    "darkening = [1, 2, 9, 10, 17, 18, 5, 6, 13, 14, 21, 22]\n",
    "fact = [1,3,5,7]\n",
    "prodedure = [9,11,13,15]\n",
    "noToneNoDarkening = [7, 8, 15, 16, 23, 24]\n",
    "\n",
    "# Creates event file from original brain butler data\n",
    "def createBBEvents(file):\n",
    "    sfreq = 200\n",
    "    rows = []\n",
    "\n",
    "    #problem was triggered 6 seconds after fixation point\n",
    "    problemOffset = 6\n",
    "\n",
    "    # tone was triggered 8 seconds after fixation point\n",
    "    toneOffset = 8\n",
    "\n",
    "    # darkening was triggered 10 seconds after fixation point\n",
    "    darkeningOffset = 10\n",
    "\n",
    "    with open(file, 'r') as file:\n",
    "        reader = csv.reader(file)\n",
    "        for row in reader:\n",
    "            # get event type\n",
    "            fixationPoint = float(row[0].split(\" \")[0])\n",
    "            eventType = int(row[0].split(\" \")[2])\n",
    "\n",
    "            if eventType in fact:\n",
    "                rows.append([int((fixationPoint) * sfreq), eventType, 1])\n",
    "                rows.append([int((fixationPoint + problemOffset) * sfreq), eventType, 2])\n",
    "            elif eventType in prodedure:\n",
    "                rows.append([int((fixationPoint) * sfreq), eventType, 1])\n",
    "                rows.append([int((fixationPoint + problemOffset) * sfreq), eventType, 3])\n",
    "            \n",
    "            \n",
    "            #if eventType in darkening:\n",
    "                #rows.append([fixationPoint + darkeningOffset, eventType, int(eventType + 200)])\n",
    "        writeFile(\"butler_files/p9_fact_proc.eve\", rows)\n",
    "    \n",
    "createBBEvents(\"butler_files/p9.eve\")\n",
    "\n",
    "\n"
   ]
  }
 ],
 "metadata": {
  "interpreter": {
   "hash": "dca0ade3e726a953b501b15e8e990130d2b7799f14cfd9f4271676035ebe5511"
  },
  "kernelspec": {
   "name": "python3",
   "display_name": "Python 3.8.5 64-bit ('base': conda)"
  },
  "language_info": {
   "codemirror_mode": {
    "name": "ipython",
    "version": 3
   },
   "file_extension": ".py",
   "mimetype": "text/x-python",
   "name": "python",
   "nbconvert_exporter": "python",
   "pygments_lexer": "ipython3",
   "version": "3.8.5"
  }
 },
 "nbformat": 4,
 "nbformat_minor": 2
}