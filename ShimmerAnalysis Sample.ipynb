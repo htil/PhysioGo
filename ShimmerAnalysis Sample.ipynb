{
 "cells": [
  {
   "cell_type": "code",
   "execution_count": 1,
   "metadata": {},
   "outputs": [
    {
     "ename": "ModuleNotFoundError",
     "evalue": "No module named 'brainflow'",
     "output_type": "error",
     "traceback": [
      "\u001b[0;31m---------------------------------------------------------------------------\u001b[0m",
      "\u001b[0;31mModuleNotFoundError\u001b[0m                       Traceback (most recent call last)",
      "\u001b[0;32m<ipython-input-1-954010327c56>\u001b[0m in \u001b[0;36m<module>\u001b[0;34m\u001b[0m\n\u001b[0;32m----> 1\u001b[0;31m \u001b[0;32mfrom\u001b[0m \u001b[0mPhysioAnalyze\u001b[0m \u001b[0;32mimport\u001b[0m \u001b[0mStudy\u001b[0m\u001b[0;34m\u001b[0m\u001b[0m\n\u001b[0m\u001b[1;32m      2\u001b[0m \u001b[0;32mfrom\u001b[0m \u001b[0mPhysioVisualize\u001b[0m \u001b[0;32mimport\u001b[0m \u001b[0mplotBasic\u001b[0m\u001b[0;34m,\u001b[0m \u001b[0mplotMulti\u001b[0m\u001b[0;34m\u001b[0m\u001b[0m\n\u001b[1;32m      3\u001b[0m \u001b[0;32mfrom\u001b[0m \u001b[0mPhysioGoDSP\u001b[0m \u001b[0;32mimport\u001b[0m \u001b[0mbutter_lowpass\u001b[0m\u001b[0;34m,\u001b[0m \u001b[0mrectify\u001b[0m\u001b[0;34m,\u001b[0m \u001b[0mextractWindows\u001b[0m\u001b[0;34m,\u001b[0m \u001b[0mgetMovingAverage\u001b[0m\u001b[0;34m,\u001b[0m \u001b[0mgetRMSEnvelope\u001b[0m\u001b[0;34m\u001b[0m\u001b[0m\n\u001b[1;32m      4\u001b[0m \u001b[0;32mimport\u001b[0m \u001b[0mnumpy\u001b[0m \u001b[0;32mas\u001b[0m \u001b[0mnp\u001b[0m\u001b[0;34m\u001b[0m\u001b[0m\n\u001b[1;32m      5\u001b[0m \u001b[0;34m\u001b[0m\u001b[0m\n",
      "\u001b[0;32m~/Documents/brainflow/PhysioAnalyze.py\u001b[0m in \u001b[0;36m<module>\u001b[0;34m\u001b[0m\n\u001b[0;32m----> 1\u001b[0;31m \u001b[0;32mfrom\u001b[0m \u001b[0mbrainflow\u001b[0m\u001b[0;34m.\u001b[0m\u001b[0mdata_filter\u001b[0m \u001b[0;32mimport\u001b[0m \u001b[0mDataFilter\u001b[0m\u001b[0;34m\u001b[0m\u001b[0m\n\u001b[0m\u001b[1;32m      2\u001b[0m \u001b[0;32mimport\u001b[0m \u001b[0mpandas\u001b[0m \u001b[0;32mas\u001b[0m \u001b[0mpd\u001b[0m\u001b[0;34m\u001b[0m\u001b[0m\n\u001b[1;32m      3\u001b[0m \u001b[0;32mimport\u001b[0m \u001b[0mnumpy\u001b[0m \u001b[0;32mas\u001b[0m \u001b[0mnp\u001b[0m\u001b[0;34m\u001b[0m\u001b[0m\n\u001b[1;32m      4\u001b[0m \u001b[0;32mimport\u001b[0m \u001b[0mmne\u001b[0m\u001b[0;34m\u001b[0m\u001b[0m\n\u001b[1;32m      5\u001b[0m \u001b[0;32mimport\u001b[0m \u001b[0mcsv\u001b[0m\u001b[0;34m\u001b[0m\u001b[0m\n",
      "\u001b[0;31mModuleNotFoundError\u001b[0m: No module named 'brainflow'"
     ]
    }
   ],
   "source": [
    "from PhysioAnalyze import Study\n",
    "from PhysioVisualize import plotBasic, plotMulti\n",
    "from PhysioGoDSP import butter_lowpass, rectify, extractWindows, getMovingAverage, getRMSEnvelope\n",
    "import numpy as np\n",
    "\n",
    "# Create Physio Study\n",
    "sFreq = 512\n",
    "\n",
    "study = Study(2, \"emg\", sFreq)\n",
    "\n",
    "# Read raw csv file\n",
    "\n",
    "emgData = study.readFileOriginal(\"data/SampleEMG.csv\", \"\\t\", 2)\n",
    "\n",
    "#emgData = study.readFileOriginal(\"data/shimmercalibrated.csv\", \"\\t\", 2)\n",
    "\n",
    "# Transpose, remove timestamps (index channel 1 and 2), convert to float\n",
    "emgData = emgData.T[2:4].astype(np.float)\n",
    "study.updateRaw(emgData)\n",
    "\n",
    "data, times = study.getEpoch(0, 30)\n",
    "\n",
    "channel_1 = data[0]\n",
    "\n",
    "# remove the mean\n",
    "mean = np.mean(channel_1)\n",
    "\n",
    "channel_1 = mean - channel_1 \n",
    "\n",
    "# rectify signal (Absolute Value)\n",
    "rectifiedSignal1 = rectify(channel_1)\n",
    "\n",
    "# Moving Average\n",
    "movingAvg = getMovingAverage(rectifiedSignal1, times, sFreq)\n",
    "\n",
    "#RMS \n",
    "rmsEnvelope = getRMSEnvelope(rectifiedSignal1, times, sFreq)\n",
    "\n",
    "# Butter\n",
    "filteredData = butter_lowpass(rectifiedSignal1, 3, sFreq, order=2)\n",
    "\n",
    "plotMulti([rectifiedSignal1, movingAvg, rmsEnvelope, filteredData], ['Channel 1', 'Moving Average', \"RMS\", \"Butter (5Hz)\"], times, [8.3, 6])\n"
   ]
  },
  {
   "cell_type": "code",
   "execution_count": null,
   "metadata": {},
   "outputs": [],
   "source": []
  },
  {
   "cell_type": "code",
   "execution_count": null,
   "metadata": {},
   "outputs": [],
   "source": []
  }
 ],
 "metadata": {
  "interpreter": {
   "hash": "aee8b7b246df8f9039afb4144a1f6fd8d2ca17a180786b69acc140d282b71a49"
  },
  "kernelspec": {
   "display_name": "Python 3.7.0 64-bit",
   "name": "python3"
  },
  "language_info": {
   "codemirror_mode": {
    "name": "ipython",
    "version": 3
   },
   "file_extension": ".py",
   "mimetype": "text/x-python",
   "name": "python",
   "nbconvert_exporter": "python",
   "pygments_lexer": "ipython3",
   "version": "3.7.0"
  }
 },
 "nbformat": 4,
 "nbformat_minor": 4
}